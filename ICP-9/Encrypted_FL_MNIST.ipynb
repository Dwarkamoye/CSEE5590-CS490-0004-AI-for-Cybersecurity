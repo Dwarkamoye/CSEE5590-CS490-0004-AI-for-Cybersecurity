{
  "nbformat": 4,
  "nbformat_minor": 0,
  "metadata": {
    "colab": {
      "name": "Encrypted_FL_MNIST.ipynb",
      "version": "0.3.2",
      "provenance": [],
      "include_colab_link": true
    },
    "kernelspec": {
      "name": "python3",
      "display_name": "Python 3"
    }
  },
  "cells": [
    {
      "cell_type": "markdown",
      "metadata": {
        "id": "view-in-github",
        "colab_type": "text"
      },
      "source": [
        "<a href=\"https://colab.research.google.com/github/Dwarkamoye/CSEE5590-CS490-0004-AI-for-Cybersecurity/blob/master/ICP-9/Encrypted_FL_MNIST.ipynb\" target=\"_parent\"><img src=\"https://colab.research.google.com/assets/colab-badge.svg\" alt=\"Open In Colab\"/></a>"
      ]
    },
    {
      "cell_type": "code",
      "metadata": {
        "id": "uGXeZGlreCK2",
        "colab_type": "code",
        "outputId": "6ca3821e-a9f0-4aeb-cac9-1f7a7d5badad",
        "colab": {
          "base_uri": "https://localhost:8080/",
          "height": 785
        }
      },
      "source": [
        "!pip install syft"
      ],
      "execution_count": 2,
      "outputs": [
        {
          "output_type": "stream",
          "text": [
            "Requirement already satisfied: syft in /usr/local/lib/python3.6/dist-packages (0.1.21a1)\n",
            "Requirement already satisfied: scikit-learn>=0.21.0 in /usr/local/lib/python3.6/dist-packages (from syft) (0.21.2)\n",
            "Requirement already satisfied: zstd>=1.4.0.0 in /usr/local/lib/python3.6/dist-packages (from syft) (1.4.0.0)\n",
            "Requirement already satisfied: Flask>=1.0.2 in /usr/local/lib/python3.6/dist-packages (from syft) (1.1.1)\n",
            "Requirement already satisfied: lz4>=2.1.6 in /usr/local/lib/python3.6/dist-packages (from syft) (2.1.10)\n",
            "Requirement already satisfied: numpy>=1.14.0 in /usr/local/lib/python3.6/dist-packages (from syft) (1.16.4)\n",
            "Requirement already satisfied: tf-encrypted>=0.5.4 in /usr/local/lib/python3.6/dist-packages (from syft) (0.5.6)\n",
            "Requirement already satisfied: flask-socketio>=3.3.2 in /usr/local/lib/python3.6/dist-packages (from syft) (4.1.0)\n",
            "Requirement already satisfied: tblib>=1.4.0 in /usr/local/lib/python3.6/dist-packages (from syft) (1.4.0)\n",
            "Requirement already satisfied: websockets>=7.0 in /usr/local/lib/python3.6/dist-packages (from syft) (8.0)\n",
            "Requirement already satisfied: torch>=1.1 in /usr/local/lib/python3.6/dist-packages (from syft) (1.1.0)\n",
            "Requirement already satisfied: torchvision>=0.3.0 in /usr/local/lib/python3.6/dist-packages (from syft) (0.3.0)\n",
            "Requirement already satisfied: msgpack>=0.6.1 in /usr/local/lib/python3.6/dist-packages (from syft) (0.6.1)\n",
            "Requirement already satisfied: websocket-client>=0.56.0 in /usr/local/lib/python3.6/dist-packages (from syft) (0.56.0)\n",
            "Requirement already satisfied: scipy>=0.17.0 in /usr/local/lib/python3.6/dist-packages (from scikit-learn>=0.21.0->syft) (1.3.0)\n",
            "Requirement already satisfied: joblib>=0.11 in /usr/local/lib/python3.6/dist-packages (from scikit-learn>=0.21.0->syft) (0.13.2)\n",
            "Requirement already satisfied: Jinja2>=2.10.1 in /usr/local/lib/python3.6/dist-packages (from Flask>=1.0.2->syft) (2.10.1)\n",
            "Requirement already satisfied: Werkzeug>=0.15 in /usr/local/lib/python3.6/dist-packages (from Flask>=1.0.2->syft) (0.15.4)\n",
            "Requirement already satisfied: itsdangerous>=0.24 in /usr/local/lib/python3.6/dist-packages (from Flask>=1.0.2->syft) (1.1.0)\n",
            "Requirement already satisfied: click>=5.1 in /usr/local/lib/python3.6/dist-packages (from Flask>=1.0.2->syft) (7.0)\n",
            "Requirement already satisfied: pyyaml>=5.1 in /usr/local/lib/python3.6/dist-packages (from tf-encrypted>=0.5.4->syft) (5.1.1)\n",
            "Requirement already satisfied: tensorflow<2,>=1.12.0 in /usr/local/lib/python3.6/dist-packages (from tf-encrypted>=0.5.4->syft) (1.14.0)\n",
            "Requirement already satisfied: python-socketio>=2.1.0 in /usr/local/lib/python3.6/dist-packages (from flask-socketio>=3.3.2->syft) (4.2.0)\n",
            "Requirement already satisfied: six in /usr/local/lib/python3.6/dist-packages (from torchvision>=0.3.0->syft) (1.12.0)\n",
            "Requirement already satisfied: pillow>=4.1.1 in /usr/local/lib/python3.6/dist-packages (from torchvision>=0.3.0->syft) (4.3.0)\n",
            "Requirement already satisfied: MarkupSafe>=0.23 in /usr/local/lib/python3.6/dist-packages (from Jinja2>=2.10.1->Flask>=1.0.2->syft) (1.1.1)\n",
            "Requirement already satisfied: termcolor>=1.1.0 in /usr/local/lib/python3.6/dist-packages (from tensorflow<2,>=1.12.0->tf-encrypted>=0.5.4->syft) (1.1.0)\n",
            "Requirement already satisfied: grpcio>=1.8.6 in /usr/local/lib/python3.6/dist-packages (from tensorflow<2,>=1.12.0->tf-encrypted>=0.5.4->syft) (1.15.0)\n",
            "Requirement already satisfied: absl-py>=0.7.0 in /usr/local/lib/python3.6/dist-packages (from tensorflow<2,>=1.12.0->tf-encrypted>=0.5.4->syft) (0.7.1)\n",
            "Requirement already satisfied: astor>=0.6.0 in /usr/local/lib/python3.6/dist-packages (from tensorflow<2,>=1.12.0->tf-encrypted>=0.5.4->syft) (0.8.0)\n",
            "Requirement already satisfied: wheel>=0.26 in /usr/local/lib/python3.6/dist-packages (from tensorflow<2,>=1.12.0->tf-encrypted>=0.5.4->syft) (0.33.4)\n",
            "Requirement already satisfied: gast>=0.2.0 in /usr/local/lib/python3.6/dist-packages (from tensorflow<2,>=1.12.0->tf-encrypted>=0.5.4->syft) (0.2.2)\n",
            "Requirement already satisfied: wrapt>=1.11.1 in /usr/local/lib/python3.6/dist-packages (from tensorflow<2,>=1.12.0->tf-encrypted>=0.5.4->syft) (1.11.2)\n",
            "Requirement already satisfied: keras-preprocessing>=1.0.5 in /usr/local/lib/python3.6/dist-packages (from tensorflow<2,>=1.12.0->tf-encrypted>=0.5.4->syft) (1.1.0)\n",
            "Requirement already satisfied: tensorboard<1.15.0,>=1.14.0 in /usr/local/lib/python3.6/dist-packages (from tensorflow<2,>=1.12.0->tf-encrypted>=0.5.4->syft) (1.14.0)\n",
            "Requirement already satisfied: protobuf>=3.6.1 in /usr/local/lib/python3.6/dist-packages (from tensorflow<2,>=1.12.0->tf-encrypted>=0.5.4->syft) (3.7.1)\n",
            "Requirement already satisfied: keras-applications>=1.0.6 in /usr/local/lib/python3.6/dist-packages (from tensorflow<2,>=1.12.0->tf-encrypted>=0.5.4->syft) (1.0.8)\n",
            "Requirement already satisfied: google-pasta>=0.1.6 in /usr/local/lib/python3.6/dist-packages (from tensorflow<2,>=1.12.0->tf-encrypted>=0.5.4->syft) (0.1.7)\n",
            "Requirement already satisfied: tensorflow-estimator<1.15.0rc0,>=1.14.0rc0 in /usr/local/lib/python3.6/dist-packages (from tensorflow<2,>=1.12.0->tf-encrypted>=0.5.4->syft) (1.14.0)\n",
            "Requirement already satisfied: python-engineio>=3.8.0 in /usr/local/lib/python3.6/dist-packages (from python-socketio>=2.1.0->flask-socketio>=3.3.2->syft) (3.8.2.post1)\n",
            "Requirement already satisfied: olefile in /usr/local/lib/python3.6/dist-packages (from pillow>=4.1.1->torchvision>=0.3.0->syft) (0.46)\n",
            "Requirement already satisfied: setuptools>=41.0.0 in /usr/local/lib/python3.6/dist-packages (from tensorboard<1.15.0,>=1.14.0->tensorflow<2,>=1.12.0->tf-encrypted>=0.5.4->syft) (41.0.1)\n",
            "Requirement already satisfied: markdown>=2.6.8 in /usr/local/lib/python3.6/dist-packages (from tensorboard<1.15.0,>=1.14.0->tensorflow<2,>=1.12.0->tf-encrypted>=0.5.4->syft) (3.1.1)\n",
            "Requirement already satisfied: h5py in /usr/local/lib/python3.6/dist-packages (from keras-applications>=1.0.6->tensorflow<2,>=1.12.0->tf-encrypted>=0.5.4->syft) (2.8.0)\n"
          ],
          "name": "stdout"
        }
      ]
    },
    {
      "cell_type": "code",
      "metadata": {
        "id": "xephSRnMf5x8",
        "colab_type": "code",
        "colab": {}
      },
      "source": [
        "import torch\n",
        "from torch import nn\n",
        "import torch.nn.functional as F\n",
        "from torchvision import datasets, transforms\n",
        "import helper\n"
      ],
      "execution_count": 0,
      "outputs": []
    },
    {
      "cell_type": "code",
      "metadata": {
        "id": "IilOc9fceJk8",
        "colab_type": "code",
        "outputId": "7ecc9cb3-b9eb-48f6-939e-e144c00628ed",
        "colab": {
          "base_uri": "https://localhost:8080/",
          "height": 105
        }
      },
      "source": [
        "\n",
        "import syft as sy\n",
        "import torch as th\n",
        "from torch import nn, optim\n",
        "\n",
        "hook = sy.TorchHook(th)"
      ],
      "execution_count": 4,
      "outputs": [
        {
          "output_type": "stream",
          "text": [
            "WARNING: Logging before flag parsing goes to stderr.\n",
            "W0716 00:05:59.261254 140509815596928 secure_random.py:26] Falling back to insecure randomness since the required custom op could not be found for the installed version of TensorFlow. Fix this by compiling custom ops. Missing file was '/usr/local/lib/python3.6/dist-packages/tf_encrypted/operations/secure_random/secure_random_module_tf_1.14.0.so'\n",
            "W0716 00:05:59.287737 140509815596928 deprecation_wrapper.py:119] From /usr/local/lib/python3.6/dist-packages/tf_encrypted/session.py:26: The name tf.Session is deprecated. Please use tf.compat.v1.Session instead.\n",
            "\n"
          ],
          "name": "stderr"
        }
      ]
    },
    {
      "cell_type": "code",
      "metadata": {
        "id": "d6Y86wMueNVL",
        "colab_type": "code",
        "colab": {}
      },
      "source": [
        "# create a couple workers\n",
        "\n",
        "bob = sy.VirtualWorker(hook, id=\"bob\")\n",
        "alice = sy.VirtualWorker(hook, id=\"alice\")\n",
        "crypto_provider = sy.VirtualWorker(hook, id=\"crypto_provider\")"
      ],
      "execution_count": 0,
      "outputs": []
    },
    {
      "cell_type": "code",
      "metadata": {
        "id": "b7G6r4KjngmF",
        "colab_type": "code",
        "outputId": "592659b7-d7b7-4994-fd3f-af0e51d092c5",
        "colab": {
          "base_uri": "https://localhost:8080/",
          "height": 34
        }
      },
      "source": [
        "bob.clear_objects()\n",
        "alice.clear_objects()"
      ],
      "execution_count": 6,
      "outputs": [
        {
          "output_type": "execute_result",
          "data": {
            "text/plain": [
              "<VirtualWorker id:alice #objects:0>"
            ]
          },
          "metadata": {
            "tags": []
          },
          "execution_count": 6
        }
      ]
    },
    {
      "cell_type": "code",
      "metadata": {
        "id": "-ztv94iDnb7z",
        "colab_type": "code",
        "colab": {}
      },
      "source": [
        "class Arguments():\n",
        "    def __init__(self):\n",
        "        self.batch_size = 64\n",
        "        self.test_batch_size = 1000\n",
        "        self.epochs = 1\n",
        "        self.lr = 0.01\n",
        "        self.momentum = 0.5\n",
        "        self.no_cuda = False\n",
        "        self.seed = 1\n",
        "        self.log_interval = 10\n",
        "        self.save_model = False\n",
        "\n",
        "args = Arguments()\n",
        "\n",
        "use_cuda = not args.no_cuda and torch.cuda.is_available()\n",
        "\n",
        "torch.manual_seed(args.seed)\n",
        "\n",
        "device = torch.device(\"cuda\" if use_cuda else \"cpu\")\n",
        "\n",
        "kwargs = {'num_workers': 1, 'pin_memory': True} if use_cuda else {}"
      ],
      "execution_count": 0,
      "outputs": []
    },
    {
      "cell_type": "code",
      "metadata": {
        "id": "YVP0zP2_nQmT",
        "colab_type": "code",
        "outputId": "ed10438a-7903-4fec-9fe7-8b3b4806325e",
        "colab": {
          "base_uri": "https://localhost:8080/",
          "height": 275
        }
      },
      "source": [
        "federated_train_loader = sy.FederatedDataLoader( # <-- this is now a FederatedDataLoader \n",
        "    datasets.FashionMNIST('~/.pytorch/F_MNIST_data/', train=True, download=True,\n",
        "                   transform=transforms.Compose([\n",
        "                       transforms.ToTensor(),\n",
        "                       transforms.Normalize((0.1307,), (0.3081,))\n",
        "                   ]))\n",
        "    .federate((bob, alice)), # <-- NEW: we distribute the dataset across all the workers, it's now a FederatedDataset\n",
        "    batch_size=args.batch_size, shuffle=True, **kwargs)\n",
        "\n",
        "test_loader = torch.utils.data.DataLoader(\n",
        "    datasets.FashionMNIST('~/.pytorch/F_MNIST_data/', train=False, transform=transforms.Compose([\n",
        "                       transforms.ToTensor(),\n",
        "                       transforms.Normalize((0.1307,), (0.3081,))\n",
        "                   ])),\n",
        "    batch_size=args.test_batch_size, shuffle=True, **kwargs)"
      ],
      "execution_count": 9,
      "outputs": [
        {
          "output_type": "stream",
          "text": [
            "\r0it [00:00, ?it/s]"
          ],
          "name": "stderr"
        },
        {
          "output_type": "stream",
          "text": [
            "Downloading http://fashion-mnist.s3-website.eu-central-1.amazonaws.com/train-images-idx3-ubyte.gz to /root/.pytorch/F_MNIST_data/FashionMNIST/raw/train-images-idx3-ubyte.gz\n"
          ],
          "name": "stdout"
        },
        {
          "output_type": "stream",
          "text": [
            "26427392it [00:02, 10222780.58it/s]                             \n"
          ],
          "name": "stderr"
        },
        {
          "output_type": "stream",
          "text": [
            "Extracting /root/.pytorch/F_MNIST_data/FashionMNIST/raw/train-images-idx3-ubyte.gz\n"
          ],
          "name": "stdout"
        },
        {
          "output_type": "stream",
          "text": [
            "\r0it [00:00, ?it/s]"
          ],
          "name": "stderr"
        },
        {
          "output_type": "stream",
          "text": [
            "Downloading http://fashion-mnist.s3-website.eu-central-1.amazonaws.com/train-labels-idx1-ubyte.gz to /root/.pytorch/F_MNIST_data/FashionMNIST/raw/train-labels-idx1-ubyte.gz\n"
          ],
          "name": "stdout"
        },
        {
          "output_type": "stream",
          "text": [
            "32768it [00:00, 71146.28it/s]                            \n",
            "0it [00:00, ?it/s]"
          ],
          "name": "stderr"
        },
        {
          "output_type": "stream",
          "text": [
            "Extracting /root/.pytorch/F_MNIST_data/FashionMNIST/raw/train-labels-idx1-ubyte.gz\n",
            "Downloading http://fashion-mnist.s3-website.eu-central-1.amazonaws.com/t10k-images-idx3-ubyte.gz to /root/.pytorch/F_MNIST_data/FashionMNIST/raw/t10k-images-idx3-ubyte.gz\n"
          ],
          "name": "stdout"
        },
        {
          "output_type": "stream",
          "text": [
            "4423680it [00:01, 3007561.22it/s]                            \n",
            "0it [00:00, ?it/s]"
          ],
          "name": "stderr"
        },
        {
          "output_type": "stream",
          "text": [
            "Extracting /root/.pytorch/F_MNIST_data/FashionMNIST/raw/t10k-images-idx3-ubyte.gz\n",
            "Downloading http://fashion-mnist.s3-website.eu-central-1.amazonaws.com/t10k-labels-idx1-ubyte.gz to /root/.pytorch/F_MNIST_data/FashionMNIST/raw/t10k-labels-idx1-ubyte.gz\n"
          ],
          "name": "stdout"
        },
        {
          "output_type": "stream",
          "text": [
            "8192it [00:00, 23991.77it/s]            \n"
          ],
          "name": "stderr"
        },
        {
          "output_type": "stream",
          "text": [
            "Extracting /root/.pytorch/F_MNIST_data/FashionMNIST/raw/t10k-labels-idx1-ubyte.gz\n",
            "Processing...\n",
            "Done!\n"
          ],
          "name": "stdout"
        }
      ]
    },
    {
      "cell_type": "code",
      "metadata": {
        "id": "8trLarqIgGWQ",
        "colab_type": "code",
        "colab": {}
      },
      "source": [
        "#image = image.fix_precision().share(bob, alice, crypto_provider=crypto_provider,  requires_grad=True)\n",
        "#label = label.fix_precision().share(bob, alice, crypto_provider=crypto_provider,  requires_grad=True)"
      ],
      "execution_count": 0,
      "outputs": []
    },
    {
      "cell_type": "code",
      "metadata": {
        "id": "cc5yyRjpuvEG",
        "colab_type": "code",
        "colab": {}
      },
      "source": [
        "class Net(nn.Module):\n",
        "    def __init__(self):\n",
        "        super(Net, self).__init__()\n",
        "        self.conv1 = nn.Conv2d(1, 20, 5, 1)\n",
        "        self.conv2 = nn.Conv2d(20, 50, 5, 1)\n",
        "        self.fc1 = nn.Linear(4*4*50, 500)\n",
        "        self.fc2 = nn.Linear(500, 10)\n",
        "\n",
        "    def forward(self, x):\n",
        "        x = F.relu(self.conv1(x))\n",
        "        x = F.max_pool2d(x, 2, 2)\n",
        "        x = F.relu(self.conv2(x))\n",
        "        x = F.max_pool2d(x, 2, 2)\n",
        "        x = x.view(-1, 4*4*50)\n",
        "        x = F.relu(self.fc1(x))\n",
        "        x = self.fc2(x)\n",
        "        return F.log_softmax(x, dim=1)"
      ],
      "execution_count": 0,
      "outputs": []
    },
    {
      "cell_type": "code",
      "metadata": {
        "id": "RgxNNZ5Vn3qh",
        "colab_type": "code",
        "colab": {}
      },
      "source": [
        "def train(args, model, device, train_loader, optimizer, epoch):\n",
        "    model.train()\n",
        "    for batch_idx, (data, target) in enumerate(federated_train_loader): # <-- now it is a distributed dataset\n",
        "        model.send(data.location) # <-- NEW: send the model to the right location\n",
        "        data, target = data.to(device), target.to(device)\n",
        "        optimizer.zero_grad()\n",
        "        output = model(data)\n",
        "        loss = F.nll_loss(output, target)\n",
        "        loss.backward()\n",
        "        optimizer.step()\n",
        "        model.get() # <-- NEW: get the model back\n",
        "        if batch_idx % args.log_interval == 0:\n",
        "            loss = loss.get() # <-- NEW: get the loss back\n",
        "            print('Train Epoch: {} [{}/{} ({:.0f}%)]\\tLoss: {:.6f}'.format(\n",
        "                epoch, batch_idx * args.batch_size, len(train_loader) * args.batch_size, #batch_idx * len(data), len(train_loader.dataset),\n",
        "                100. * batch_idx / len(train_loader), loss.item()))"
      ],
      "execution_count": 0,
      "outputs": []
    },
    {
      "cell_type": "code",
      "metadata": {
        "id": "JHmxt-c9pwFO",
        "colab_type": "code",
        "colab": {}
      },
      "source": [
        "def test(args, model, device, test_loader):\n",
        "    model.eval()\n",
        "    test_loss = 0\n",
        "    correct = 0\n",
        "    with torch.no_grad():\n",
        "        for data, target in test_loader:\n",
        "            data, target = data.to(device), target.to(device)\n",
        "            output = model(data)\n",
        "            test_loss += F.nll_loss(output, target, reduction='sum').item() # sum up batch loss\n",
        "            pred = output.argmax(1, keepdim=True) # get the index of the max log-probability \n",
        "            correct += pred.eq(target.view_as(pred)).sum().item()\n",
        "\n",
        "    test_loss /= len(test_loader.dataset)\n",
        "\n",
        "    print('\\nTest set: Average loss: {:.4f}, Accuracy: {}/{} ({:.0f}%)\\n'.format(\n",
        "        test_loss, correct, len(test_loader.dataset),\n",
        "        100. * correct / len(test_loader.dataset)))"
      ],
      "execution_count": 0,
      "outputs": []
    },
    {
      "cell_type": "code",
      "metadata": {
        "id": "l__EE4eXoNpf",
        "colab_type": "code",
        "outputId": "c2ceac97-ebfc-40c0-bc77-bcb9ea7690a9",
        "colab": {
          "base_uri": "https://localhost:8080/",
          "height": 1000
        }
      },
      "source": [
        "model = Net().to(device)\n",
        "# TODO: Define your network architecture here\n",
        "\n",
        "#model = model.fix_precision().share(bob, alice, crypto_provider=crypto_provider,  requires_grad=True)\n",
        "\n",
        "optimizer = optim.SGD(model.parameters(), lr=args.lr) # TODO momentum is not supported at the moment\n",
        "\n",
        "for epoch in range(1, args.epochs + 1):\n",
        "    train(args, model, device, federated_train_loader, optimizer, epoch)\n",
        "    test(args, model, device, test_loader)"
      ],
      "execution_count": 14,
      "outputs": [
        {
          "output_type": "stream",
          "text": [
            "Train Epoch: 1 [0/60032 (0%)]\tLoss: 2.308013\n",
            "Train Epoch: 1 [640/60032 (1%)]\tLoss: 2.278277\n",
            "Train Epoch: 1 [1280/60032 (2%)]\tLoss: 2.223066\n",
            "Train Epoch: 1 [1920/60032 (3%)]\tLoss: 2.178230\n",
            "Train Epoch: 1 [2560/60032 (4%)]\tLoss: 2.119330\n",
            "Train Epoch: 1 [3200/60032 (5%)]\tLoss: 1.991134\n",
            "Train Epoch: 1 [3840/60032 (6%)]\tLoss: 1.848124\n",
            "Train Epoch: 1 [4480/60032 (7%)]\tLoss: 1.717725\n",
            "Train Epoch: 1 [5120/60032 (9%)]\tLoss: 1.529551\n",
            "Train Epoch: 1 [5760/60032 (10%)]\tLoss: 1.483605\n",
            "Train Epoch: 1 [6400/60032 (11%)]\tLoss: 1.268205\n",
            "Train Epoch: 1 [7040/60032 (12%)]\tLoss: 1.405404\n",
            "Train Epoch: 1 [7680/60032 (13%)]\tLoss: 1.000153\n",
            "Train Epoch: 1 [8320/60032 (14%)]\tLoss: 1.187712\n",
            "Train Epoch: 1 [8960/60032 (15%)]\tLoss: 1.226823\n",
            "Train Epoch: 1 [9600/60032 (16%)]\tLoss: 1.057866\n",
            "Train Epoch: 1 [10240/60032 (17%)]\tLoss: 0.980531\n",
            "Train Epoch: 1 [10880/60032 (18%)]\tLoss: 0.790167\n",
            "Train Epoch: 1 [11520/60032 (19%)]\tLoss: 0.850935\n",
            "Train Epoch: 1 [12160/60032 (20%)]\tLoss: 0.887532\n",
            "Train Epoch: 1 [12800/60032 (21%)]\tLoss: 1.071004\n",
            "Train Epoch: 1 [13440/60032 (22%)]\tLoss: 0.997539\n",
            "Train Epoch: 1 [14080/60032 (23%)]\tLoss: 1.040598\n",
            "Train Epoch: 1 [14720/60032 (25%)]\tLoss: 0.998435\n",
            "Train Epoch: 1 [15360/60032 (26%)]\tLoss: 0.936804\n",
            "Train Epoch: 1 [16000/60032 (27%)]\tLoss: 1.089932\n",
            "Train Epoch: 1 [16640/60032 (28%)]\tLoss: 0.964895\n",
            "Train Epoch: 1 [17280/60032 (29%)]\tLoss: 0.849959\n",
            "Train Epoch: 1 [17920/60032 (30%)]\tLoss: 0.938392\n",
            "Train Epoch: 1 [18560/60032 (31%)]\tLoss: 0.852902\n",
            "Train Epoch: 1 [19200/60032 (32%)]\tLoss: 0.695547\n",
            "Train Epoch: 1 [19840/60032 (33%)]\tLoss: 0.782272\n",
            "Train Epoch: 1 [20480/60032 (34%)]\tLoss: 0.646138\n",
            "Train Epoch: 1 [21120/60032 (35%)]\tLoss: 0.764626\n",
            "Train Epoch: 1 [21760/60032 (36%)]\tLoss: 0.880032\n",
            "Train Epoch: 1 [22400/60032 (37%)]\tLoss: 0.819817\n",
            "Train Epoch: 1 [23040/60032 (38%)]\tLoss: 0.718860\n",
            "Train Epoch: 1 [23680/60032 (39%)]\tLoss: 0.879666\n",
            "Train Epoch: 1 [24320/60032 (41%)]\tLoss: 0.653108\n",
            "Train Epoch: 1 [24960/60032 (42%)]\tLoss: 0.667524\n",
            "Train Epoch: 1 [25600/60032 (43%)]\tLoss: 0.810236\n",
            "Train Epoch: 1 [26240/60032 (44%)]\tLoss: 0.764628\n",
            "Train Epoch: 1 [26880/60032 (45%)]\tLoss: 0.829024\n",
            "Train Epoch: 1 [27520/60032 (46%)]\tLoss: 0.790037\n",
            "Train Epoch: 1 [28160/60032 (47%)]\tLoss: 0.708481\n",
            "Train Epoch: 1 [28800/60032 (48%)]\tLoss: 0.810579\n",
            "Train Epoch: 1 [29440/60032 (49%)]\tLoss: 0.773166\n",
            "Train Epoch: 1 [30080/60032 (50%)]\tLoss: 0.827062\n",
            "Train Epoch: 1 [30720/60032 (51%)]\tLoss: 0.567246\n",
            "Train Epoch: 1 [31360/60032 (52%)]\tLoss: 0.664463\n",
            "Train Epoch: 1 [32000/60032 (53%)]\tLoss: 0.760406\n",
            "Train Epoch: 1 [32640/60032 (54%)]\tLoss: 0.641489\n",
            "Train Epoch: 1 [33280/60032 (55%)]\tLoss: 0.741137\n",
            "Train Epoch: 1 [33920/60032 (57%)]\tLoss: 0.657262\n",
            "Train Epoch: 1 [34560/60032 (58%)]\tLoss: 0.835514\n",
            "Train Epoch: 1 [35200/60032 (59%)]\tLoss: 0.478473\n",
            "Train Epoch: 1 [35840/60032 (60%)]\tLoss: 0.633705\n",
            "Train Epoch: 1 [36480/60032 (61%)]\tLoss: 0.672175\n",
            "Train Epoch: 1 [37120/60032 (62%)]\tLoss: 0.546396\n",
            "Train Epoch: 1 [37760/60032 (63%)]\tLoss: 0.937996\n",
            "Train Epoch: 1 [38400/60032 (64%)]\tLoss: 0.777359\n",
            "Train Epoch: 1 [39040/60032 (65%)]\tLoss: 0.670780\n",
            "Train Epoch: 1 [39680/60032 (66%)]\tLoss: 0.620410\n",
            "Train Epoch: 1 [40320/60032 (67%)]\tLoss: 0.669821\n",
            "Train Epoch: 1 [40960/60032 (68%)]\tLoss: 0.650091\n",
            "Train Epoch: 1 [41600/60032 (69%)]\tLoss: 0.654478\n",
            "Train Epoch: 1 [42240/60032 (70%)]\tLoss: 0.632022\n",
            "Train Epoch: 1 [42880/60032 (71%)]\tLoss: 0.910738\n",
            "Train Epoch: 1 [43520/60032 (72%)]\tLoss: 0.729278\n",
            "Train Epoch: 1 [44160/60032 (74%)]\tLoss: 0.550934\n",
            "Train Epoch: 1 [44800/60032 (75%)]\tLoss: 0.766787\n",
            "Train Epoch: 1 [45440/60032 (76%)]\tLoss: 0.729633\n",
            "Train Epoch: 1 [46080/60032 (77%)]\tLoss: 0.729162\n",
            "Train Epoch: 1 [46720/60032 (78%)]\tLoss: 0.847959\n",
            "Train Epoch: 1 [47360/60032 (79%)]\tLoss: 0.693793\n",
            "Train Epoch: 1 [48000/60032 (80%)]\tLoss: 0.471232\n",
            "Train Epoch: 1 [48640/60032 (81%)]\tLoss: 0.515306\n",
            "Train Epoch: 1 [49280/60032 (82%)]\tLoss: 0.785134\n",
            "Train Epoch: 1 [49920/60032 (83%)]\tLoss: 0.615005\n",
            "Train Epoch: 1 [50560/60032 (84%)]\tLoss: 0.768344\n",
            "Train Epoch: 1 [51200/60032 (85%)]\tLoss: 0.526255\n",
            "Train Epoch: 1 [51840/60032 (86%)]\tLoss: 0.682048\n",
            "Train Epoch: 1 [52480/60032 (87%)]\tLoss: 0.657710\n",
            "Train Epoch: 1 [53120/60032 (88%)]\tLoss: 0.611099\n",
            "Train Epoch: 1 [53760/60032 (90%)]\tLoss: 0.812021\n",
            "Train Epoch: 1 [54400/60032 (91%)]\tLoss: 0.660186\n",
            "Train Epoch: 1 [55040/60032 (92%)]\tLoss: 0.783419\n",
            "Train Epoch: 1 [55680/60032 (93%)]\tLoss: 0.751886\n",
            "Train Epoch: 1 [56320/60032 (94%)]\tLoss: 0.579836\n",
            "Train Epoch: 1 [56960/60032 (95%)]\tLoss: 0.480562\n",
            "Train Epoch: 1 [57600/60032 (96%)]\tLoss: 0.764124\n",
            "Train Epoch: 1 [58240/60032 (97%)]\tLoss: 0.518888\n",
            "Train Epoch: 1 [58880/60032 (98%)]\tLoss: 0.547281\n",
            "Train Epoch: 1 [59520/60032 (99%)]\tLoss: 0.625971\n",
            "\n",
            "Test set: Average loss: 0.6434, Accuracy: 7467/10000 (75%)\n",
            "\n"
          ],
          "name": "stdout"
        }
      ]
    },
    {
      "cell_type": "code",
      "metadata": {
        "id": "joY0wvRXgo1w",
        "colab_type": "code",
        "outputId": "0bfc567c-c8ed-4af2-8ed7-41ddb8195352",
        "colab": {
          "base_uri": "https://localhost:8080/",
          "height": 241
        }
      },
      "source": [
        "model = nn.Sequential(nn.Linear(784, 128),\n",
        "                      nn.ReLU(),\n",
        "                      nn.Linear(128, 64),\n",
        "                      nn.ReLU(),\n",
        "                      nn.Linear(64, 10),\n",
        "                      nn.LogSoftmax(dim=1))\n",
        "\n",
        "from torch import optim\n",
        "\n",
        "criterion = nn.NLLLoss()\n",
        "optimizer = optim.SGD(model.parameters(), lr=0.003)\n",
        "\n",
        "epochs = 10\n",
        "for e in range(epochs):\n",
        "    running_loss = 0\n",
        "    for images, labels in federated_train_loader:\n",
        "        # Flatten MNIST images into a 784 long vector\n",
        "        images = images.view(images.shape[0], -1)\n",
        "        optimizer.zero_grad()\n",
        "        # TODO: Training pass\n",
        "        model.send(images.location)\n",
        "        logits = model(images)\n",
        "        loss = criterion(logits, labels)\n",
        "        loss.backward()\n",
        "        optimizer.step()\n",
        "        model.get()\n",
        "        \n",
        "        running_loss += loss.get().item()\n",
        "    else:\n",
        "        print(f\"Training loss: {running_loss/len(federated_train_loader)}\")"
      ],
      "execution_count": 16,
      "outputs": [
        {
          "output_type": "stream",
          "text": [
            "/usr/local/lib/python3.6/dist-packages/syft/workers/base.py:385: UserWarning: Implicit dimension choice for log_softmax has been deprecated. Change the call to include dim=X as an argument.\n",
            "  response = command(*args, **kwargs)\n"
          ],
          "name": "stderr"
        },
        {
          "output_type": "stream",
          "text": [
            "Training loss: 1.3779687957087559\n",
            "Training loss: 0.7342907481356216\n",
            "Training loss: 0.6002241934794607\n",
            "Training loss: 0.5373341272761827\n",
            "Training loss: 0.5033439859461937\n",
            "Training loss: 0.48038303275415895\n",
            "Training loss: 0.4635986490036125\n",
            "Training loss: 0.44977408800043783\n",
            "Training loss: 0.4387897180437025\n",
            "Training loss: 0.42881421160215\n"
          ],
          "name": "stdout"
        }
      ]
    },
    {
      "cell_type": "code",
      "metadata": {
        "id": "akb5rOrQvs3N",
        "colab_type": "code",
        "outputId": "ea634d5e-210c-43a0-ea6f-1e374eb20b55",
        "colab": {
          "base_uri": "https://localhost:8080/",
          "height": 214
        }
      },
      "source": [
        "%matplotlib inline\n",
        "%config InlineBackend.figure_format = 'retina'\n",
        "import matplotlib.pyplot as plt\n",
        "import numpy as np\n",
        "import helper\n",
        "import helper\n",
        "\n",
        "def view_classify(img, ps, version=\"MNIST\"):\n",
        "    ''' Function for viewing an image and it's predicted classes.\n",
        "    '''\n",
        "    ps = ps.data.numpy().squeeze()\n",
        "\n",
        "    fig, (ax1, ax2) = plt.subplots(figsize=(6,9), ncols=2)\n",
        "    ax1.imshow(img.resize_(1, 28, 28).numpy().squeeze())\n",
        "    ax1.axis('off')\n",
        "    ax2.barh(np.arange(10), ps)\n",
        "    ax2.set_aspect(0.1)\n",
        "    ax2.set_yticks(np.arange(10))\n",
        "    if version == \"MNIST\":\n",
        "        ax2.set_yticklabels(np.arange(10))\n",
        "    elif version == \"Fashion\":\n",
        "        ax2.set_yticklabels(['T-shirt/top',\n",
        "                            'Trouser',\n",
        "                            'Pullover',\n",
        "                            'Dress',\n",
        "                            'Coat',\n",
        "                            'Sandal',\n",
        "                            'Shirt',\n",
        "                            'Sneaker',\n",
        "                            'Bag',\n",
        "                            'Ankle Boot'], size='small');\n",
        "    ax2.set_title('Class Probability')\n",
        "    ax2.set_xlim(0, 1.1)\n",
        "\n",
        "# Test out your network!\n",
        "\n",
        "dataiter = iter(test_loader)\n",
        "images, labels = dataiter.next()\n",
        "img = images[0]\n",
        "# Convert 2D image to 1D vector\n",
        "img = img.resize_(1, 784)\n",
        "\n",
        "# Turn off gradients to speed up this part\n",
        "with torch.no_grad():\n",
        "    logps = model(img)\n",
        "\n",
        "# Output of the network are log-probabilities, need to take exponential for probabilities\n",
        "ps = torch.exp(logps)\n",
        "\n",
        "# Plot the image and probabilities\n",
        "view_classify(img.resize_(1, 28, 28), ps, version='Fashion')"
      ],
      "execution_count": 17,
      "outputs": [
        {
          "output_type": "display_data",
          "data": {
            "image/png": "[encoded data removed]",
            "text/plain": [
              "<Figure size 432x648 with 2 Axes>"
            ]
          },
          "metadata": {
            "tags": [],
            "image/png": {
              "width": 370,
              "height": 197
            }
          }
        }
      ]
    },
    {
      "cell_type": "code",
      "metadata": {
        "id": "NqeOsj7wxOPv",
        "colab_type": "code",
        "colab": {}
      },
      "source": [
        ""
      ],
      "execution_count": 0,
      "outputs": []
    }
  ]
}